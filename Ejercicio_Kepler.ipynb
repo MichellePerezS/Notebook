{
 "metadata": {
  "language_info": {
   "codemirror_mode": {
    "name": "ipython",
    "version": 3
   },
   "file_extension": ".py",
   "mimetype": "text/x-python",
   "name": "python",
   "nbconvert_exporter": "python",
   "pygments_lexer": "ipython3",
   "version": "3.7.4-final"
  },
  "orig_nbformat": 2,
  "kernelspec": {
   "name": "Python 3.7.4 64-bit ('base': conda)",
   "display_name": "Python 3.7.4 64-bit ('base': conda)",
   "metadata": {
    "interpreter": {
     "hash": "9f0ad2fd7eaac0370aaed03955272662bb7b781176866da1216edaf13105c759"
    }
   }
  }
 },
 "nbformat": 4,
 "nbformat_minor": 2,
 "cells": [
  {
   "source": [
    "<style type=\"text/css\">\n",
    "@import url('https://fonts.googleapis.com/css2?family=IBM+Plex+Sans&display=swap');\n",
    "*{\n",
    "    font-family: 'IBM Plex Sans', sans-serif;\n",
    "}    \n",
    "h1 {\n",
    "  font-size: 40px;\n",
    "  text-align: center;\n",
    "}\n",
    "\n",
    "p, li {\n",
    "  font-size: 16px;\n",
    "  line-height: 2;\n",
    "  letter-spacing: 1px;\n",
    "}\n",
    "</style>"
   ],
   "cell_type": "markdown",
   "metadata": {}
  },
  {
   "source": [
    "<h1>Cálculo del periodo de traslación de Venus</h1>"
   ],
   "cell_type": "markdown",
   "metadata": {}
  },
  {
   "source": [
    "---\n",
    "<p>Dibujo del problema aplicando la tercera Ley de Kepler</p>\n",
    "<img src=\"https://www.lavanguardia.com/r/GODO/LV/p4/WebSite/2017/12/18/img_fcastanyer_20171218-211853_imagenes_lv_terceros_segunda_ley.gif\" width=\"538\" height=\"218\" />"
   ],
   "cell_type": "markdown",
   "metadata": {}
  },
  {
   "source": [
    "<p>Instalar paquetes</p>\n"
   ],
   "cell_type": "markdown",
   "metadata": {}
  },
  {
   "cell_type": "code",
   "execution_count": 1,
   "metadata": {},
   "outputs": [],
   "source": [
    "#Importar objetos directos de Sympy\n",
    "from sympy import solve, symbols, pi, Eq\n",
    "#Importar unidades S.I\n",
    "from sympy.physics.units import meter, kilogram, second, kelvin, newton, day\n",
    "#Importar la funcion convert_to para convertir unidades\n",
    "from sympy.physics.units import convert_to\n",
    "#Cargamos constantes\n",
    "from sympy.physics.units import gravitational_constant as G "
   ]
  },
  {
   "source": [
    "La incógnita del problema es $T$ :\n"
   ],
   "cell_type": "markdown",
   "metadata": {}
  },
  {
   "cell_type": "code",
   "execution_count": 2,
   "metadata": {},
   "outputs": [],
   "source": [
    "T = symbols(\"T\")"
   ]
  },
  {
   "source": [
    "Datos conocidos:\n",
    "*Masa del sol ($M_\\odot$) y ,\n",
    "*Semi eje mayor de Venus (a)"
   ],
   "cell_type": "markdown",
   "metadata": {}
  },
  {
   "cell_type": "code",
   "execution_count": 3,
   "metadata": {},
   "outputs": [],
   "source": [
    "a = 108208000e3 * meter\n",
    "M = 1.9891e30 * kilogram"
   ]
  },
  {
   "source": [
    "Usamos la ecuación de Kepler que relaciona los elementos anteriores:\n",
    "$$ \n",
    "\\frac{T^2}{a^3} =\\frac{4\\\\pi^2}{GM}\n",
    "$$\n",
    "\n",
    "Y ahora redacto en Sympy:\n"
   ],
   "cell_type": "markdown",
   "metadata": {}
  },
  {
   "source": [
    "eq_kepler = Eq(T**2 / a**3, 4*pi**2 / G / M)\n",
    "eq_kepler\n"
   ],
   "cell_type": "code",
   "metadata": {},
   "execution_count": 4,
   "outputs": [
    {
     "output_type": "execute_result",
     "data": {
      "text/plain": [
       "Eq(7.89263265044555e-34*T**2/meter**3, 2.0109597305314e-30*pi**2/(gravitational_constant*kilogram))"
      ],
      "text/latex": "$\\displaystyle \\frac{7.89263265044555 \\cdot 10^{-34} T^{2}}{\\text{m}^{3}} = \\frac{2.0109597305314 \\cdot 10^{-30} \\pi^{2}}{\\text{G} \\text{kg}}$"
     },
     "metadata": {},
     "execution_count": 4
    }
   ]
  },
  {
   "source": [
    "Resolvemos la ecuación anterior:"
   ],
   "cell_type": "markdown",
   "metadata": {}
  },
  {
   "source": [
    "solution = solve(eq_kepler,T)[1]\n",
    "solution\n"
   ],
   "cell_type": "code",
   "metadata": {},
   "execution_count": 9,
   "outputs": [
    {
     "output_type": "execute_result",
     "data": {
      "text/plain": [
       "158.577152366205*meter**(3/2)/(sqrt(gravitational_constant)*sqrt(kilogram))"
      ],
      "text/latex": "$\\displaystyle \\frac{158.577152366205 \\text{m}^{\\frac{3}{2}}}{\\sqrt{\\text{G}} \\sqrt{\\text{kg}}}$"
     },
     "metadata": {},
     "execution_count": 9
    }
   ]
  },
  {
   "source": [
    "convert_to(solution,day).n(2)"
   ],
   "cell_type": "code",
   "metadata": {},
   "execution_count": 8,
   "outputs": [
    {
     "output_type": "execute_result",
     "data": {
      "text/plain": [
       "2.2e+2*day"
      ],
      "text/latex": "$\\displaystyle 2.2 \\cdot 10^{2} \\text{day}$"
     },
     "metadata": {},
     "execution_count": 8
    }
   ]
  },
  {
   "cell_type": "code",
   "execution_count": null,
   "metadata": {},
   "outputs": [],
   "source": []
  }
 ]
}